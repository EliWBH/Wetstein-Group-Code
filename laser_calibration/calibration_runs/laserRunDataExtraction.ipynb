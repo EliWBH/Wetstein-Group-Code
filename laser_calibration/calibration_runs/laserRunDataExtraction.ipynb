{
 "cells": [
  {
   "cell_type": "code",
   "execution_count": 12,
   "id": "f1cd0770-0143-47be-9627-1b3ad4d718e0",
   "metadata": {},
   "outputs": [
    {
     "name": "stdout",
     "output_type": "stream",
     "text": [
      "Data successfully exported to annieLaser4692.csv\n"
     ]
    }
   ],
   "source": [
    "import uproot\n",
    "import pandas as pd\n",
    "\n",
    "# Path to your ROOT file\n",
    "root_file_path = \"4692_laser.ntuple.root\"\n",
    "\n",
    "# Open the ROOT file and access the tree\n",
    "with uproot.open(root_file_path) as file:\n",
    "    tree = file[\"phaseIITriggerTree\"]\n",
    "\n",
    "    # Load only the specified branches into a DataFrame\n",
    "    branches = [\"eventNumber\", \"hitDetID\", \"hitT\", \"hitQ\"]\n",
    "    df = tree.arrays(branches, entry_stop=200, library=\"pd\")\n",
    "\n",
    "# Save to CSV\n",
    "csv_file_path = \"annieLaser4692.csv\"\n",
    "df.to_csv(csv_file_path, index=False)\n",
    "\n",
    "print(f\"Data successfully exported to {csv_file_path}\")\n"
   ]
  },
  {
   "cell_type": "code",
   "execution_count": null,
   "id": "b0107212-de4a-439f-b0af-8e166a155ec6",
   "metadata": {},
   "outputs": [],
   "source": []
  }
 ],
 "metadata": {
  "kernelspec": {
   "display_name": "Python 3 (ipykernel)",
   "language": "python",
   "name": "python3"
  },
  "language_info": {
   "codemirror_mode": {
    "name": "ipython",
    "version": 3
   },
   "file_extension": ".py",
   "mimetype": "text/x-python",
   "name": "python",
   "nbconvert_exporter": "python",
   "pygments_lexer": "ipython3",
   "version": "3.10.12"
  }
 },
 "nbformat": 4,
 "nbformat_minor": 5
}
